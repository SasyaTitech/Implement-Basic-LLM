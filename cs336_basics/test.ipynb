{
 "cells": [
  {
   "cell_type": "code",
   "execution_count": null,
   "id": "ee67301d",
   "metadata": {},
   "outputs": [
    {
     "name": "stdout",
     "output_type": "stream",
     "text": [
      "64\n"
     ]
    }
   ],
   "source": [
    "from .pretokenization_example import find_chunk_boundaries\n",
    "from pathlib import Path\n",
    "\n",
    "\n",
    "def pre_tokenize(file_path : Path, num_processes : int = 4):\n",
    "    with open(..., \"rb\") as f:\n",
    "        boundaries = find_chunk_boundaries(f, num_processes, b\"<|endoftext|>\")\n",
    "\n",
    "        # The following is a serial implementation, but you can parallelize this\n",
    "        # by sending each start/end pair to a set of processes.\n",
    "        for start, end in zip(boundaries[:-1], boundaries[1:]): # 拉链起来 [0, 5, 12] -> [[0, 5], [5, 12]]\n",
    "            f.seek(start)\n",
    "            chunk = f.read(end - start).decode(\"utf-8\", errors=\"ignore\")\n",
    "            print(chunk)\n",
    "            break\n",
    "            # Run pre-tokenization on your chunk and store the counts for each pre-token"
   ]
  }
 ],
 "metadata": {
  "kernelspec": {
   "display_name": "cs336-basics",
   "language": "python",
   "name": "python3"
  },
  "language_info": {
   "codemirror_mode": {
    "name": "ipython",
    "version": 3
   },
   "file_extension": ".py",
   "mimetype": "text/x-python",
   "name": "python",
   "nbconvert_exporter": "python",
   "pygments_lexer": "ipython3",
   "version": "3.12.10"
  }
 },
 "nbformat": 4,
 "nbformat_minor": 5
}
