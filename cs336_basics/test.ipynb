{
 "cells": [
  {
   "cell_type": "code",
   "execution_count": 3,
   "id": "ee67301d",
   "metadata": {},
   "outputs": [
    {
     "data": {
      "text/plain": [
       "['djisaj \\n dasjijofejo', ' sadwd\\n']"
      ]
     },
     "execution_count": 3,
     "metadata": {},
     "output_type": "execute_result"
    }
   ],
   "source": [
    "import regex as re\n",
    "split = [\"<|hi|>\", \"<|bu|>\"]\n",
    "text = \"djisaj \\n dasjijofejo<|hi|> sadwd\\n\"\n",
    "pat = \"|\".join([re.escape(s) for s in split])\n",
    "re.split(pat, text)"
   ]
  },
  {
   "cell_type": "code",
   "execution_count": 4,
   "id": "99fd1838",
   "metadata": {},
   "outputs": [
    {
     "name": "stdout",
     "output_type": "stream",
     "text": [
      "[119, 111, 114, 100]\n"
     ]
    }
   ],
   "source": [
    "print(list(w.encode(\"utf-8\")))"
   ]
  }
 ],
 "metadata": {
  "kernelspec": {
   "display_name": "cs336-basics",
   "language": "python",
   "name": "python3"
  },
  "language_info": {
   "codemirror_mode": {
    "name": "ipython",
    "version": 3
   },
   "file_extension": ".py",
   "mimetype": "text/x-python",
   "name": "python",
   "nbconvert_exporter": "python",
   "pygments_lexer": "ipython3",
   "version": "3.12.10"
  }
 },
 "nbformat": 4,
 "nbformat_minor": 5
}
