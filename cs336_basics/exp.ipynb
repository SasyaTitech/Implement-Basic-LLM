{
 "cells": [
  {
   "cell_type": "code",
   "execution_count": 1,
   "id": "a2a2f461",
   "metadata": {},
   "outputs": [],
   "source": [
    "s = \"ameli go to school.\""
   ]
  },
  {
   "cell_type": "code",
   "execution_count": 5,
   "id": "20bb92ca",
   "metadata": {},
   "outputs": [
    {
     "data": {
      "text/plain": [
       "b'ameli go to school.'"
      ]
     },
     "execution_count": 5,
     "metadata": {},
     "output_type": "execute_result"
    }
   ],
   "source": [
    "b=s.encode(\"utf-8\")\n",
    "b"
   ]
  },
  {
   "cell_type": "code",
   "execution_count": 6,
   "id": "f86a53b9",
   "metadata": {},
   "outputs": [
    {
     "data": {
      "text/plain": [
       "(str, bytes)"
      ]
     },
     "execution_count": 6,
     "metadata": {},
     "output_type": "execute_result"
    }
   ],
   "source": [
    "type(s),type(b)"
   ]
  },
  {
   "cell_type": "code",
   "execution_count": 8,
   "id": "5e20930a",
   "metadata": {},
   "outputs": [],
   "source": [
    "l = list(b)"
   ]
  },
  {
   "cell_type": "code",
   "execution_count": 9,
   "id": "8cff0cb2",
   "metadata": {},
   "outputs": [
    {
     "data": {
      "text/plain": [
       "[97,\n",
       " 109,\n",
       " 101,\n",
       " 108,\n",
       " 105,\n",
       " 32,\n",
       " 103,\n",
       " 111,\n",
       " 32,\n",
       " 116,\n",
       " 111,\n",
       " 32,\n",
       " 115,\n",
       " 99,\n",
       " 104,\n",
       " 111,\n",
       " 111,\n",
       " 108,\n",
       " 46]"
      ]
     },
     "execution_count": 9,
     "metadata": {},
     "output_type": "execute_result"
    }
   ],
   "source": [
    "l"
   ]
  },
  {
   "cell_type": "code",
   "execution_count": 10,
   "id": "88e1d1ad",
   "metadata": {},
   "outputs": [
    {
     "data": {
      "text/plain": [
       "[int,\n",
       " int,\n",
       " int,\n",
       " int,\n",
       " int,\n",
       " int,\n",
       " int,\n",
       " int,\n",
       " int,\n",
       " int,\n",
       " int,\n",
       " int,\n",
       " int,\n",
       " int,\n",
       " int,\n",
       " int,\n",
       " int,\n",
       " int,\n",
       " int]"
      ]
     },
     "execution_count": 10,
     "metadata": {},
     "output_type": "execute_result"
    }
   ],
   "source": [
    "[type(x) for x in l]"
   ]
  },
  {
   "cell_type": "code",
   "execution_count": 11,
   "id": "3ddad190",
   "metadata": {},
   "outputs": [
    {
     "data": {
      "text/plain": [
       "[int,\n",
       " int,\n",
       " int,\n",
       " int,\n",
       " int,\n",
       " int,\n",
       " int,\n",
       " int,\n",
       " int,\n",
       " int,\n",
       " int,\n",
       " int,\n",
       " int,\n",
       " int,\n",
       " int,\n",
       " int,\n",
       " int,\n",
       " int,\n",
       " int]"
      ]
     },
     "execution_count": 11,
     "metadata": {},
     "output_type": "execute_result"
    }
   ],
   "source": [
    "[type(x) for x in b]"
   ]
  },
  {
   "cell_type": "code",
   "execution_count": 13,
   "id": "abdb8d49",
   "metadata": {},
   "outputs": [
    {
     "ename": "ValueError",
     "evalue": "invalid literal for int() with base 10: b'am'",
     "output_type": "error",
     "traceback": [
      "\u001b[31m---------------------------------------------------------------------------\u001b[39m",
      "\u001b[31mValueError\u001b[39m                                Traceback (most recent call last)",
      "\u001b[36mCell\u001b[39m\u001b[36m \u001b[39m\u001b[32mIn[13]\u001b[39m\u001b[32m, line 1\u001b[39m\n\u001b[32m----> \u001b[39m\u001b[32m1\u001b[39m \u001b[38;5;28;43mint\u001b[39;49m\u001b[43m(\u001b[49m\u001b[43mb\u001b[49m\u001b[43m[\u001b[49m\u001b[43m:\u001b[49m\u001b[32;43m2\u001b[39;49m\u001b[43m]\u001b[49m\u001b[43m)\u001b[49m\n",
      "\u001b[31mValueError\u001b[39m: invalid literal for int() with base 10: b'am'"
     ]
    }
   ],
   "source": [
    "int(b[:2])"
   ]
  },
  {
   "cell_type": "code",
   "execution_count": 14,
   "id": "1c1969a8",
   "metadata": {},
   "outputs": [
    {
     "data": {
      "text/plain": [
       "['ameli g', ' t', ' sch', '', 'l.']"
      ]
     },
     "execution_count": 14,
     "metadata": {},
     "output_type": "execute_result"
    }
   ],
   "source": [
    "s.split(\"o\")"
   ]
  },
  {
   "cell_type": "code",
   "execution_count": 17,
   "id": "e39d2141",
   "metadata": {},
   "outputs": [],
   "source": [
    "if '':\n",
    "    print(\"z\")"
   ]
  },
  {
   "cell_type": "code",
   "execution_count": 19,
   "id": "2b0f227c",
   "metadata": {},
   "outputs": [],
   "source": [
    "from dataclasses import dataclass, field\n",
    "\n",
    "@dataclass(frozen=True)\n",
    "class BPETokenizerParams:\n",
    "    \"\"\"All you need to specify a BPETokenizer.\"\"\"\n",
    "    vocab: dict[int, bytes]\n",
    "    merges: list[tuple[bytes, bytes]]\n",
    "    special_tokens: list[str] | None = None\n",
    "    bytes_id : dict[bytes,int] = field(default_factory=dict)\n",
    "\n",
    "    def __post_init__(self):\n",
    "        object.__setattr__(self, \"bytes_id\", {b: i for i, b in self.vocab.items()})"
   ]
  },
  {
   "cell_type": "code",
   "execution_count": 20,
   "id": "0e675714",
   "metadata": {},
   "outputs": [
    {
     "data": {
      "text/plain": [
       "BPETokenizerParams(vocab={1: b'a'}, merges=[], special_tokens=None, bytes_id={b'a': 1})"
      ]
     },
     "execution_count": 20,
     "metadata": {},
     "output_type": "execute_result"
    }
   ],
   "source": [
    "BPETokenizerParams(vocab={1:b\"a\"},merges=[])"
   ]
  }
 ],
 "metadata": {
  "kernelspec": {
   "display_name": ".venv",
   "language": "python",
   "name": "python3"
  },
  "language_info": {
   "codemirror_mode": {
    "name": "ipython",
    "version": 3
   },
   "file_extension": ".py",
   "mimetype": "text/x-python",
   "name": "python",
   "nbconvert_exporter": "python",
   "pygments_lexer": "ipython3",
   "version": "3.12.7"
  }
 },
 "nbformat": 4,
 "nbformat_minor": 5
}
