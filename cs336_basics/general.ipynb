{
 "cells": [
  {
   "metadata": {
    "ExecuteTime": {
     "end_time": "2025-08-05T19:36:45.350260Z",
     "start_time": "2025-08-05T19:36:45.344058Z"
    }
   },
   "cell_type": "code",
   "source": "import regex as re",
   "id": "23f09f82febd8f11",
   "outputs": [],
   "execution_count": 1
  },
  {
   "metadata": {
    "collapsed": true,
    "ExecuteTime": {
     "end_time": "2025-08-03T19:40:14.561317Z",
     "start_time": "2025-08-03T19:40:14.558218Z"
    }
   },
   "cell_type": "code",
   "outputs": [
    {
     "data": {
      "text/plain": [
       "'\\x00'"
      ]
     },
     "execution_count": 4,
     "metadata": {},
     "output_type": "execute_result"
    }
   ],
   "execution_count": 4,
   "source": "chr(0)",
   "id": "initial_id"
  },
  {
   "metadata": {
    "ExecuteTime": {
     "end_time": "2025-08-03T19:39:49.513080Z",
     "start_time": "2025-08-03T19:39:49.510017Z"
    }
   },
   "cell_type": "code",
   "outputs": [
    {
     "data": {
      "text/plain": [
       "0"
      ]
     },
     "execution_count": 2,
     "metadata": {},
     "output_type": "execute_result"
    }
   ],
   "execution_count": 2,
   "source": "ord('\\x00')",
   "id": "6270be52656a6cca"
  },
  {
   "metadata": {
    "ExecuteTime": {
     "end_time": "2025-08-03T19:40:19.490383Z",
     "start_time": "2025-08-03T19:40:19.487623Z"
    }
   },
   "cell_type": "code",
   "outputs": [
    {
     "name": "stdout",
     "output_type": "stream",
     "text": [
      "0\n"
     ]
    }
   ],
   "execution_count": 5,
   "source": "print(0)",
   "id": "effa91428c12e7f4"
  },
  {
   "metadata": {
    "ExecuteTime": {
     "end_time": "2025-08-03T19:40:25.514449Z",
     "start_time": "2025-08-03T19:40:25.511569Z"
    }
   },
   "cell_type": "code",
   "outputs": [
    {
     "name": "stdout",
     "output_type": "stream",
     "text": [
      "\u0000\n"
     ]
    }
   ],
   "execution_count": 6,
   "source": "print(chr(0))",
   "id": "d1b0d2ce34b90100"
  },
  {
   "metadata": {
    "ExecuteTime": {
     "end_time": "2025-08-03T19:41:16.861834Z",
     "start_time": "2025-08-03T19:41:16.859076Z"
    }
   },
   "cell_type": "code",
   "source": "'test' + chr(0) + 'test'",
   "id": "d842b3aaa5819391",
   "outputs": [
    {
     "data": {
      "text/plain": [
       "'test\\x00test'"
      ]
     },
     "execution_count": 7,
     "metadata": {},
     "output_type": "execute_result"
    }
   ],
   "execution_count": 7
  },
  {
   "metadata": {
    "ExecuteTime": {
     "end_time": "2025-08-03T19:41:23.277104Z",
     "start_time": "2025-08-03T19:41:23.274869Z"
    }
   },
   "cell_type": "code",
   "source": "print('test' + chr(0) + 'test')",
   "id": "6ca808ed9abead26",
   "outputs": [
    {
     "name": "stdout",
     "output_type": "stream",
     "text": [
      "test\u0000test\n"
     ]
    }
   ],
   "execution_count": 8
  },
  {
   "metadata": {
    "ExecuteTime": {
     "end_time": "2025-08-03T19:42:52.805705Z",
     "start_time": "2025-08-03T19:42:52.803915Z"
    }
   },
   "cell_type": "code",
   "source": "test_string = \"hello! こんにちは!\"",
   "id": "27731b5d2a3f5c5a",
   "outputs": [],
   "execution_count": 9
  },
  {
   "metadata": {
    "ExecuteTime": {
     "end_time": "2025-08-03T19:43:08.357393Z",
     "start_time": "2025-08-03T19:43:08.355618Z"
    }
   },
   "cell_type": "code",
   "source": "utf8_encoded = test_string.encode('utf-8')",
   "id": "11410bda7a4049",
   "outputs": [],
   "execution_count": 10
  },
  {
   "metadata": {
    "ExecuteTime": {
     "end_time": "2025-08-03T19:43:14.149526Z",
     "start_time": "2025-08-03T19:43:14.147196Z"
    }
   },
   "cell_type": "code",
   "source": "print(utf8_encoded)",
   "id": "48361c67dbc3c440",
   "outputs": [
    {
     "name": "stdout",
     "output_type": "stream",
     "text": [
      "b'hello! \\xe3\\x81\\x93\\xe3\\x82\\x93\\xe3\\x81\\xab\\xe3\\x81\\xa1\\xe3\\x81\\xaf!'\n"
     ]
    }
   ],
   "execution_count": 11
  },
  {
   "metadata": {
    "ExecuteTime": {
     "end_time": "2025-08-03T19:43:31.023091Z",
     "start_time": "2025-08-03T19:43:31.021230Z"
    }
   },
   "cell_type": "code",
   "source": "print(type(utf8_encoded))",
   "id": "bd51b9a11fe758d7",
   "outputs": [
    {
     "name": "stdout",
     "output_type": "stream",
     "text": [
      "<class 'bytes'>\n"
     ]
    }
   ],
   "execution_count": 12
  },
  {
   "metadata": {
    "ExecuteTime": {
     "end_time": "2025-08-03T19:43:51.438511Z",
     "start_time": "2025-08-03T19:43:51.436985Z"
    }
   },
   "cell_type": "code",
   "source": "print(list(utf8_encoded))",
   "id": "ebec6ac07608209b",
   "outputs": [
    {
     "name": "stdout",
     "output_type": "stream",
     "text": [
      "[104, 101, 108, 108, 111, 33, 32, 227, 129, 147, 227, 130, 147, 227, 129, 171, 227, 129, 161, 227, 129, 175, 33]\n"
     ]
    }
   ],
   "execution_count": 14
  },
  {
   "metadata": {
    "ExecuteTime": {
     "end_time": "2025-08-03T19:44:26.431883Z",
     "start_time": "2025-08-03T19:44:26.430053Z"
    }
   },
   "cell_type": "code",
   "source": "print(utf8_encoded.decode('utf-8'))",
   "id": "8315b601da20bd22",
   "outputs": [
    {
     "name": "stdout",
     "output_type": "stream",
     "text": [
      "hello! こんにちは!\n"
     ]
    }
   ],
   "execution_count": 15
  },
  {
   "metadata": {
    "ExecuteTime": {
     "end_time": "2025-08-03T19:47:23.175862Z",
     "start_time": "2025-08-03T19:47:23.174048Z"
    }
   },
   "cell_type": "code",
   "source": "test_string.encode()[0]",
   "id": "fa06456d976cb7a2",
   "outputs": [
    {
     "data": {
      "text/plain": [
       "104"
      ]
     },
     "execution_count": 21,
     "metadata": {},
     "output_type": "execute_result"
    }
   ],
   "execution_count": 21
  },
  {
   "metadata": {
    "ExecuteTime": {
     "end_time": "2025-08-03T19:46:54.095299Z",
     "start_time": "2025-08-03T19:46:54.092130Z"
    }
   },
   "cell_type": "code",
   "source": "chr(test_string.encode()[0])",
   "id": "cb1e784c15db1dec",
   "outputs": [
    {
     "data": {
      "text/plain": [
       "'h'"
      ]
     },
     "execution_count": 19,
     "metadata": {},
     "output_type": "execute_result"
    }
   ],
   "execution_count": 19
  },
  {
   "metadata": {
    "ExecuteTime": {
     "end_time": "2025-08-03T19:49:20.529547Z",
     "start_time": "2025-08-03T19:49:20.527345Z"
    }
   },
   "cell_type": "code",
   "source": [
    "def decode_utf8_bytes_to_str_wrong(bytestring: bytes):\n",
    "    return \"\".join([bytes([b]).decode(\"utf-8\") for b in bytestring])"
   ],
   "id": "3f66d8af36eeb719",
   "outputs": [],
   "execution_count": 22
  },
  {
   "metadata": {
    "ExecuteTime": {
     "end_time": "2025-08-03T19:49:28.579046Z",
     "start_time": "2025-08-03T19:49:28.576538Z"
    }
   },
   "cell_type": "code",
   "source": "decode_utf8_bytes_to_str_wrong(\"hello\".encode(\"utf-8\"))",
   "id": "4f949c7634d68fe2",
   "outputs": [
    {
     "data": {
      "text/plain": [
       "'hello'"
      ]
     },
     "execution_count": 23,
     "metadata": {},
     "output_type": "execute_result"
    }
   ],
   "execution_count": 23
  },
  {
   "metadata": {
    "ExecuteTime": {
     "end_time": "2025-08-03T19:49:36.575320Z",
     "start_time": "2025-08-03T19:49:36.572208Z"
    }
   },
   "cell_type": "code",
   "source": "decode_utf8_bytes_to_str_wrong(\"hello0123hello\".encode(\"utf-8\"))",
   "id": "fde5d8df706e06b5",
   "outputs": [
    {
     "data": {
      "text/plain": [
       "'hello0123hello'"
      ]
     },
     "execution_count": 24,
     "metadata": {},
     "output_type": "execute_result"
    }
   ],
   "execution_count": 24
  },
  {
   "metadata": {
    "ExecuteTime": {
     "end_time": "2025-08-03T19:57:20.582665Z",
     "start_time": "2025-08-03T19:57:20.580578Z"
    }
   },
   "cell_type": "code",
   "source": "test_multiple_bytes_per_char = \"こんにちは!\".encode(\"utf-8\")",
   "id": "7c7fbed493cd9d72",
   "outputs": [],
   "execution_count": 33
  },
  {
   "metadata": {
    "ExecuteTime": {
     "end_time": "2025-08-03T20:03:47.652993Z",
     "start_time": "2025-08-03T20:03:47.651203Z"
    }
   },
   "cell_type": "code",
   "source": "list(test_multiple_bytes_per_char)",
   "id": "672ec473d4195315",
   "outputs": [
    {
     "data": {
      "text/plain": [
       "[227, 129, 147, 227, 130, 147, 227, 129, 171, 227, 129, 161, 227, 129, 175, 33]"
      ]
     },
     "execution_count": 39,
     "metadata": {},
     "output_type": "execute_result"
    }
   ],
   "execution_count": 39
  },
  {
   "metadata": {
    "ExecuteTime": {
     "end_time": "2025-08-03T19:57:44.333631Z",
     "start_time": "2025-08-03T19:57:44.330555Z"
    }
   },
   "cell_type": "code",
   "source": "len(test_multiple_bytes_per_char)",
   "id": "9b133f6934ee85db",
   "outputs": [
    {
     "data": {
      "text/plain": [
       "16"
      ]
     },
     "execution_count": 35,
     "metadata": {},
     "output_type": "execute_result"
    }
   ],
   "execution_count": 35
  },
  {
   "metadata": {
    "ExecuteTime": {
     "end_time": "2025-08-03T19:57:55.091284Z",
     "start_time": "2025-08-03T19:57:55.087665Z"
    }
   },
   "cell_type": "code",
   "source": "len(\"こんにちは!\")",
   "id": "7f457ad4976d79c1",
   "outputs": [
    {
     "data": {
      "text/plain": [
       "6"
      ]
     },
     "execution_count": 36,
     "metadata": {},
     "output_type": "execute_result"
    }
   ],
   "execution_count": 36
  },
  {
   "metadata": {
    "ExecuteTime": {
     "end_time": "2025-08-03T19:57:32.463865Z",
     "start_time": "2025-08-03T19:57:32.460722Z"
    }
   },
   "cell_type": "code",
   "source": "test_multiple_bytes_per_char.decode(\"utf-8\")",
   "id": "b54db0b275f9a4ca",
   "outputs": [
    {
     "data": {
      "text/plain": [
       "'こんにちは!'"
      ]
     },
     "execution_count": 34,
     "metadata": {},
     "output_type": "execute_result"
    }
   ],
   "execution_count": 34
  },
  {
   "metadata": {
    "ExecuteTime": {
     "end_time": "2025-08-03T19:51:49.145902Z",
     "start_time": "2025-08-03T19:51:49.126837Z"
    }
   },
   "cell_type": "code",
   "source": "decode_utf8_bytes_to_str_wrong(\"こんにちは!\".encode(\"utf-8\"))",
   "id": "44ef319c5cb2382f",
   "outputs": [
    {
     "ename": "UnicodeDecodeError",
     "evalue": "'utf-8' codec can't decode byte 0xe3 in position 0: unexpected end of data",
     "output_type": "error",
     "traceback": [
      "\u001B[31m---------------------------------------------------------------------------\u001B[39m",
      "\u001B[31mUnicodeDecodeError\u001B[39m                        Traceback (most recent call last)",
      "\u001B[36mCell\u001B[39m\u001B[36m \u001B[39m\u001B[32mIn[28]\u001B[39m\u001B[32m, line 1\u001B[39m\n\u001B[32m----> \u001B[39m\u001B[32m1\u001B[39m \u001B[43mdecode_utf8_bytes_to_str_wrong\u001B[49m\u001B[43m(\u001B[49m\u001B[33;43m\"\u001B[39;49m\u001B[33;43mこんにちは!\u001B[39;49m\u001B[33;43m\"\u001B[39;49m\u001B[43m.\u001B[49m\u001B[43mencode\u001B[49m\u001B[43m(\u001B[49m\u001B[33;43m\"\u001B[39;49m\u001B[33;43mutf-8\u001B[39;49m\u001B[33;43m\"\u001B[39;49m\u001B[43m)\u001B[49m\u001B[43m)\u001B[49m\n",
      "\u001B[36mCell\u001B[39m\u001B[36m \u001B[39m\u001B[32mIn[22]\u001B[39m\u001B[32m, line 2\u001B[39m, in \u001B[36mdecode_utf8_bytes_to_str_wrong\u001B[39m\u001B[34m(bytestring)\u001B[39m\n\u001B[32m      1\u001B[39m \u001B[38;5;28;01mdef\u001B[39;00m\u001B[38;5;250m \u001B[39m\u001B[34mdecode_utf8_bytes_to_str_wrong\u001B[39m(bytestring: \u001B[38;5;28mbytes\u001B[39m):\n\u001B[32m----> \u001B[39m\u001B[32m2\u001B[39m     \u001B[38;5;28;01mreturn\u001B[39;00m \u001B[33m\"\u001B[39m\u001B[33m\"\u001B[39m.join([\u001B[38;5;28;43mbytes\u001B[39;49m\u001B[43m(\u001B[49m\u001B[43m[\u001B[49m\u001B[43mb\u001B[49m\u001B[43m]\u001B[49m\u001B[43m)\u001B[49m\u001B[43m.\u001B[49m\u001B[43mdecode\u001B[49m\u001B[43m(\u001B[49m\u001B[33;43m\"\u001B[39;49m\u001B[33;43mutf-8\u001B[39;49m\u001B[33;43m\"\u001B[39;49m\u001B[43m)\u001B[49m \u001B[38;5;28;01mfor\u001B[39;00m b \u001B[38;5;129;01min\u001B[39;00m bytestring])\n",
      "\u001B[31mUnicodeDecodeError\u001B[39m: 'utf-8' codec can't decode byte 0xe3 in position 0: unexpected end of data"
     ]
    }
   ],
   "execution_count": 28
  },
  {
   "metadata": {
    "ExecuteTime": {
     "end_time": "2025-08-05T19:37:08.626505Z",
     "start_time": "2025-08-05T19:37:08.625108Z"
    }
   },
   "cell_type": "code",
   "source": [
    "# regex to pre-tokenize text\n",
    "PAT = r\"\"\"'(?:[sdmt]|ll|ve|re)| ?\\p{L}+| ?\\p{N}+| ?[^\\s\\p{L}\\p{N}]+|\\s+(?!\\S)|\\s+\"\"\""
   ],
   "id": "a3f98288648e37f",
   "outputs": [],
   "execution_count": 3
  },
  {
   "metadata": {
    "ExecuteTime": {
     "end_time": "2025-08-05T19:37:09.229285Z",
     "start_time": "2025-08-05T19:37:09.224155Z"
    }
   },
   "cell_type": "code",
   "source": "re.findall(PAT, \"hello! こんにちは! 1234 test's\")",
   "id": "e0013373e42a6093",
   "outputs": [
    {
     "data": {
      "text/plain": [
       "['hello', '!', ' こんにちは', '!', ' 1234', ' test', \"'s\"]"
      ]
     },
     "execution_count": 4,
     "metadata": {},
     "output_type": "execute_result"
    }
   ],
   "execution_count": 4
  },
  {
   "metadata": {
    "ExecuteTime": {
     "end_time": "2025-08-06T20:41:35.971571Z",
     "start_time": "2025-08-06T20:41:35.968163Z"
    }
   },
   "cell_type": "code",
   "source": "re.findall(PAT, \"<|endoftext|>\")",
   "id": "cfa7b29a51d4e86a",
   "outputs": [
    {
     "data": {
      "text/plain": [
       "['<|', 'endoftext', '|>']"
      ]
     },
     "execution_count": 20,
     "metadata": {},
     "output_type": "execute_result"
    }
   ],
   "execution_count": 20
  },
  {
   "metadata": {
    "ExecuteTime": {
     "end_time": "2025-08-05T19:43:40.391749Z",
     "start_time": "2025-08-05T19:43:40.389681Z"
    }
   },
   "cell_type": "code",
   "source": "test = re.finditer(PAT, \"hello! こんにちは! 1234 test's\")",
   "id": "6c0b01ffe655f0e6",
   "outputs": [],
   "execution_count": 13
  },
  {
   "metadata": {
    "ExecuteTime": {
     "end_time": "2025-08-05T19:43:40.753662Z",
     "start_time": "2025-08-05T19:43:40.751086Z"
    }
   },
   "cell_type": "code",
   "source": [
    "for t in test:\n",
    "    # print(t)\n",
    "    print(t.group())"
   ],
   "id": "b6dfc0d01e7f5108",
   "outputs": [
    {
     "name": "stdout",
     "output_type": "stream",
     "text": [
      "hello\n",
      "!\n",
      " こんにちは\n",
      "!\n",
      " 1234\n",
      " test\n",
      "'s\n"
     ]
    }
   ],
   "execution_count": 14
  },
  {
   "metadata": {},
   "cell_type": "code",
   "outputs": [],
   "execution_count": null,
   "source": "",
   "id": "ee16e2d6630c2bfd"
  },
  {
   "metadata": {
    "ExecuteTime": {
     "end_time": "2025-08-03T20:05:10.090021Z",
     "start_time": "2025-08-03T20:05:10.087711Z"
    }
   },
   "cell_type": "code",
   "source": "max([(\"A\", \"B\"), (\"A\", \"C\"), (\"B\", \"ZZ\"), (\"BA\", \"A\")])",
   "id": "d66e5948cf9cbca3",
   "outputs": [
    {
     "data": {
      "text/plain": [
       "('BA', 'A')"
      ]
     },
     "execution_count": 40,
     "metadata": {},
     "output_type": "execute_result"
    }
   ],
   "execution_count": 40
  },
  {
   "metadata": {
    "ExecuteTime": {
     "end_time": "2025-08-06T14:39:51.886714Z",
     "start_time": "2025-08-06T14:39:51.883689Z"
    }
   },
   "cell_type": "code",
   "source": "b\"<|endoftext|>\"",
   "id": "6124bb24216b1df",
   "outputs": [
    {
     "data": {
      "text/plain": [
       "b'<|endoftext|>'"
      ]
     },
     "execution_count": 15,
     "metadata": {},
     "output_type": "execute_result"
    }
   ],
   "execution_count": 15
  },
  {
   "metadata": {
    "ExecuteTime": {
     "end_time": "2025-08-06T14:40:09.067015Z",
     "start_time": "2025-08-06T14:40:09.065041Z"
    }
   },
   "cell_type": "code",
   "source": "'<|endoftext|>'.encode()",
   "id": "d0292275a2b5d174",
   "outputs": [
    {
     "data": {
      "text/plain": [
       "b'<|endoftext|>'"
      ]
     },
     "execution_count": 16,
     "metadata": {},
     "output_type": "execute_result"
    }
   ],
   "execution_count": 16
  },
  {
   "metadata": {
    "ExecuteTime": {
     "end_time": "2025-08-06T15:19:09.594665Z",
     "start_time": "2025-08-06T15:19:09.592320Z"
    }
   },
   "cell_type": "code",
   "source": [
    "a = [0, 21617, 44228, 65990, 112162, 133404, 154501, 173416, 195049, 214745, 235474, 259537, 284470, 303341, 323275, 348727, 365262, 391375, 407618, 448003, 449080, 471094, 492754, 516179, 534993, 557151, 578551, 634115, 641463, 667851, 683599]\n",
    "b = [0, 21617, 44228, 65990, 112162, 133404, 154501, 173416, 195049, 214745, 235474, 259537, 284470, 303341, 323275, 348727, 365262, 391375, 407618, 448003, 449080, 471094, 492754, 516179, 534993, 557151, 578551, 634115, 641463, 667851, 683599]"
   ],
   "id": "435c5b2a64109797",
   "outputs": [],
   "execution_count": 18
  },
  {
   "metadata": {
    "ExecuteTime": {
     "end_time": "2025-08-06T15:19:12.586754Z",
     "start_time": "2025-08-06T15:19:12.584198Z"
    }
   },
   "cell_type": "code",
   "source": "a ==b",
   "id": "504238564ff71572",
   "outputs": [
    {
     "data": {
      "text/plain": [
       "True"
      ]
     },
     "execution_count": 19,
     "metadata": {},
     "output_type": "execute_result"
    }
   ],
   "execution_count": 19
  },
  {
   "metadata": {},
   "cell_type": "code",
   "outputs": [],
   "execution_count": null,
   "source": "",
   "id": "3a93644ad5af4559"
  },
  {
   "metadata": {
    "ExecuteTime": {
     "end_time": "2025-08-07T16:50:58.302654Z",
     "start_time": "2025-08-07T16:50:58.299410Z"
    }
   },
   "cell_type": "code",
   "source": [
    "a = [0, 21617, 44228, 65990, 112162, 133404, 154501, 173416, 195049, 214745, 235474, 259537, 284470, 303341, 323275, 348727, 365262, 391375, 407618, 448003]\n",
    "n = 4\n",
    "\n",
    "l = int(len(a) / n)+ 1\n",
    "print(len(a))\n",
    "print(l)\n",
    "print(len(a) / n)\n",
    "\n",
    "\n",
    "t = [a[i:i + l] for i in range(0, len(a), l)]\n",
    "\n",
    "print(t)\n",
    "\n"
   ],
   "id": "b060ba57242507fd",
   "outputs": [
    {
     "name": "stdout",
     "output_type": "stream",
     "text": [
      "20\n",
      "6\n",
      "5.0\n",
      "[[0, 21617, 44228, 65990, 112162, 133404], [154501, 173416, 195049, 214745, 235474, 259537], [284470, 303341, 323275, 348727, 365262, 391375], [407618, 448003]]\n"
     ]
    }
   ],
   "execution_count": 9
  },
  {
   "metadata": {},
   "cell_type": "code",
   "outputs": [],
   "execution_count": null,
   "source": "",
   "id": "465606e8233c0494"
  }
 ],
 "metadata": {
  "kernelspec": {
   "display_name": "Python 3",
   "language": "python",
   "name": "python3"
  },
  "language_info": {
   "codemirror_mode": {
    "name": "ipython",
    "version": 2
   },
   "file_extension": ".py",
   "mimetype": "text/x-python",
   "name": "python",
   "nbconvert_exporter": "python",
   "pygments_lexer": "ipython2",
   "version": "2.7.6"
  }
 },
 "nbformat": 4,
 "nbformat_minor": 5
}
