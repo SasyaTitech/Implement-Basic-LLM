{
 "cells": [
  {
   "cell_type": "code",
   "execution_count": 1,
   "id": "8369401a",
   "metadata": {},
   "outputs": [],
   "source": [
    "import torch"
   ]
  },
  {
   "cell_type": "code",
   "execution_count": 3,
   "id": "02f2c620",
   "metadata": {},
   "outputs": [
    {
     "data": {
      "text/plain": [
       "tensor([1, 2, 3])"
      ]
     },
     "execution_count": 3,
     "metadata": {},
     "output_type": "execute_result"
    }
   ],
   "source": [
    "a = torch.tensor([1,2,3])\n",
    "a"
   ]
  },
  {
   "cell_type": "code",
   "execution_count": 7,
   "id": "9abfb38b",
   "metadata": {},
   "outputs": [
    {
     "data": {
      "text/plain": [
       "tensor([[1, 2, 3],\n",
       "        [4, 5, 6]])"
      ]
     },
     "execution_count": 7,
     "metadata": {},
     "output_type": "execute_result"
    }
   ],
   "source": [
    "b = torch.tensor([[1,2,3],[4,5,6]])\n",
    "b"
   ]
  },
  {
   "cell_type": "code",
   "execution_count": 14,
   "id": "96f8694e",
   "metadata": {},
   "outputs": [],
   "source": [
    "zeros  = torch.zeros([3,4])\n",
    "ones = torch.ones(2,2,3)\n",
    "rand = torch.rand(3,3)\n",
    "randn = torch.randn(3,3)"
   ]
  },
  {
   "cell_type": "code",
   "execution_count": 18,
   "id": "08bae747",
   "metadata": {},
   "outputs": [
    {
     "data": {
      "text/plain": [
       "(torch.Size([2, 3, 4]), torch.Size([2, 3, 4]), 3)"
      ]
     },
     "execution_count": 18,
     "metadata": {},
     "output_type": "execute_result"
    }
   ],
   "source": [
    "x = torch.rand(2,3,4)\n",
    "\n",
    "x.shape, x.size(), x.dim()"
   ]
  },
  {
   "cell_type": "code",
   "execution_count": 21,
   "id": "9c576d3d",
   "metadata": {},
   "outputs": [],
   "source": [
    "y = x.view(6,4)\n",
    "y = x.reshape(6, 4) "
   ]
  },
  {
   "cell_type": "code",
   "execution_count": 23,
   "id": "a170d752",
   "metadata": {},
   "outputs": [
    {
     "data": {
      "text/plain": [
       "tensor([[0.6699, 0.0791, 0.3302, 0.0463],\n",
       "        [0.6947, 0.6118, 0.7816, 0.1623],\n",
       "        [0.2472, 0.7928, 0.3568, 0.6622]])"
      ]
     },
     "execution_count": 23,
     "metadata": {},
     "output_type": "execute_result"
    }
   ],
   "source": [
    "x = torch.rand(3, 4)\n",
    "x"
   ]
  },
  {
   "cell_type": "code",
   "execution_count": 25,
   "id": "b0d5bd01",
   "metadata": {},
   "outputs": [
    {
     "data": {
      "text/plain": [
       "tensor([1.1256, 2.2505, 2.0589])"
      ]
     },
     "execution_count": 25,
     "metadata": {},
     "output_type": "execute_result"
    }
   ],
   "source": [
    "row_sums = x.sum(dim=1)\n",
    "row_sums"
   ]
  },
  {
   "cell_type": "code",
   "execution_count": 27,
   "id": "80f0e696",
   "metadata": {},
   "outputs": [
    {
     "data": {
      "text/plain": [
       "tensor([1.6118, 1.4838, 1.4687, 0.8708])"
      ]
     },
     "execution_count": 27,
     "metadata": {},
     "output_type": "execute_result"
    }
   ],
   "source": [
    "col_sums = x.sum(dim=0) \n",
    "col_sums"
   ]
  },
  {
   "cell_type": "code",
   "execution_count": 28,
   "id": "c027c309",
   "metadata": {},
   "outputs": [
    {
     "data": {
      "text/plain": [
       "tensor([[1.1256],\n",
       "        [2.2505],\n",
       "        [2.0589]])"
      ]
     },
     "execution_count": 28,
     "metadata": {},
     "output_type": "execute_result"
    }
   ],
   "source": [
    "keep_dim = x.sum(dim=1, keepdim=True) \n",
    "keep_dim"
   ]
  },
  {
   "cell_type": "code",
   "execution_count": 29,
   "id": "de87e4ba",
   "metadata": {},
   "outputs": [],
   "source": [
    "x = torch.rand(5, 6)"
   ]
  },
  {
   "cell_type": "code",
   "execution_count": 31,
   "id": "dfc1f110",
   "metadata": {},
   "outputs": [],
   "source": [
    "a = x[0]  # First row"
   ]
  },
  {
   "cell_type": "code",
   "execution_count": 32,
   "id": "23969107",
   "metadata": {},
   "outputs": [],
   "source": [
    "x = torch.rand(5, 6)"
   ]
  },
  {
   "cell_type": "code",
   "execution_count": null,
   "id": "cb25c98c",
   "metadata": {},
   "outputs": [],
   "source": []
  }
 ],
 "metadata": {
  "kernelspec": {
   "display_name": "cs336-basics",
   "language": "python",
   "name": "python3"
  },
  "language_info": {
   "codemirror_mode": {
    "name": "ipython",
    "version": 3
   },
   "file_extension": ".py",
   "mimetype": "text/x-python",
   "name": "python",
   "nbconvert_exporter": "python",
   "pygments_lexer": "ipython3",
   "version": "3.11.13"
  }
 },
 "nbformat": 4,
 "nbformat_minor": 5
}
